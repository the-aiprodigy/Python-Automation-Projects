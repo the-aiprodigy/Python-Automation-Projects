{
 "cells": [
  {
   "cell_type": "markdown",
   "metadata": {},
   "source": [
    "## **Bank Account Simulator**\n",
    "\n",
    "## **Project Overview**\n",
    "This project involves creating a simple bank account application in Python that demonstrates the use of custom exceptions for error handling. \n",
    "\n",
    "The core functionality of this application includes depositing and withdrawing funds from a bank account. A custom exception, `InsufficientFundsError`, is defined to handle scenarios where a withdrawal attempt exceeds the available account balance."
   ]
  },
  {
   "cell_type": "markdown",
   "metadata": {},
   "source": [
    "## **Project Approach**\n",
    "\n",
    "**1. Define custom exception:** Start by defining a custom exception class named `InsufficientFundsError`. \n",
    "- This class will inherit from Python's built-in `Exception` class. The custom exception will be raised when a withdrawal request exceeds the account's current balance.\n",
    "\n",
    "**2. Implement BankAccount class:** Implement a `BankAccount` class with methods for depositing (`deposit`) and withdrawing (`withdraw`) funds. \n",
    "- The `withdraw` method will check if the account has sufficient funds. If not, it will raise the `InsufficientFundsError`.\n",
    "\n",
    "**3. Error handling:** Include error handling in the application to catch and respond to `InsufficientFundsError` appropriately."
   ]
  },
  {
   "cell_type": "markdown",
   "metadata": {},
   "source": [
    "## **Code Implementation**"
   ]
  },
  {
   "cell_type": "code",
   "execution_count": 1,
   "metadata": {},
   "outputs": [],
   "source": [
    "# Define the custom exception class\n",
    "class InsufficientFundsError(Exception):\n",
    "    \"\"\"Exception raised when a withdrawal attempt exceeds the available balance.\"\"\"\n",
    "    def __init__(self, message=\"Insufficient funds in account for the withdrawal\"):\n",
    "        self.message = message\n",
    "        super().__init__(self.message)"
   ]
  },
  {
   "cell_type": "code",
   "execution_count": 2,
   "metadata": {},
   "outputs": [],
   "source": [
    "# Implement the BankAccount class\n",
    "class BankAccount:\n",
    "    def __init__(self, initial_balance=0):\n",
    "        \"\"\"Initializes a new bank account with an optional initial balance.\"\"\"\n",
    "        self.balance = initial_balance\n",
    "\n",
    "    def deposit(self, amount):\n",
    "        \"\"\"Deposits the specified amount into the account.\"\"\"\n",
    "        self.balance += amount\n",
    "        print(f\"Deposited: ${amount}. Current balance: ${self.balance}.\")\n",
    "\n",
    "    def withdraw(self, amount):\n",
    "        \"\"\"Withdraws the specified amount from the account if sufficient funds are available.\"\"\"\n",
    "        if amount > self.balance:\n",
    "            raise InsufficientFundsError(f\"Attempted withdrawal: ${amount}, but only ${self.balance} available.\")\n",
    "        self.balance -= amount\n",
    "        print(f\"Withdrew: ${amount}. Remaining balance: ${self.balance}.\")"
   ]
  },
  {
   "cell_type": "code",
   "execution_count": 3,
   "metadata": {},
   "outputs": [
    {
     "name": "stdout",
     "output_type": "stream",
     "text": [
      "Deposited: $50. Current balance: $150.\n",
      "An error occurred: Attempted withdrawal: $200, but only $150 available.\n"
     ]
    }
   ],
   "source": [
    "# # Use the BankAccount class and handle the custom exception\n",
    "if __name__ == \"__main__\":\n",
    "    account = BankAccount(100)  # Start with an initial balance of $100\n",
    "    account.deposit(50)         # Deposit an additional $50\n",
    "\n",
    "    try:\n",
    "        account.withdraw(200)   # Attempt to withdraw $200\n",
    "    except InsufficientFundsError as e:\n",
    "        print(f\"An error occurred: {e}\")\n",
    "\n",
    "    # Continue with further transactions or logic as needed"
   ]
  },
  {
   "cell_type": "markdown",
   "metadata": {},
   "source": [
    "### **Summary**\n",
    "This project showcases the power of custom exceptions in Python for creating robust and user-friendly applications. By defining and using custom exceptions, developers can control error handling with greater precision and clarity.\n",
    "\n",
    "- **Flexibility:** The `BankAccount` class and `InsufficientFundsError` exception can be extended with additional functionality as needed, such as handling different types of transactions, implementing interest calculations, or integrating with a database for persistence.\n",
    "\n",
    "- **Error messages:** Custom error messages can be provided to `InsufficientFundsError` to give more context about the failed withdrawal attempt, enhancing the user experience and debuggability of the application.\n",
    "\n",
    "- **Testing and validation:** Implementing unit tests to validate the behavior of the `BankAccount` class and the handling of `InsufficientFundsError` is recommended for more complex applications."
   ]
  }
 ],
 "metadata": {
  "kernelspec": {
   "display_name": "base",
   "language": "python",
   "name": "python3"
  },
  "language_info": {
   "codemirror_mode": {
    "name": "ipython",
    "version": 3
   },
   "file_extension": ".py",
   "mimetype": "text/x-python",
   "name": "python",
   "nbconvert_exporter": "python",
   "pygments_lexer": "ipython3",
   "version": "3.11.4"
  }
 },
 "nbformat": 4,
 "nbformat_minor": 2
}
