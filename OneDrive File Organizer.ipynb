{
 "cells": [
  {
   "cell_type": "markdown",
   "metadata": {},
   "source": [
    "## **Project Overview**\n",
    "This project involves creating a Python script to automate the organization of files within a local OneDrive filesystem directory. \n",
    "\n",
    "The script will classify files into specific folders based on their file type (extension), streamlining the file management process and making it easier to locate specific types of files."
   ]
  },
  {
   "cell_type": "markdown",
   "metadata": {},
   "source": [
    "## **Project Approach**\n",
    "**1. Analyze file extensions:** The script will analyze the file extensions of all items within the specified OneDrive directory. Based on the file extension, each file will be categorized (e.g., Documents, Images, Videos, etc.).\n",
    "\n",
    "**2. Create target directories:** For each category identified in step 1, a corresponding directory will be created within the OneDrive folder, if it doesn't already exist.\n",
    "\n",
    "**3. Move files to directories:** Each file will be moved to its respective category directory. For example, `.pdf` files will be moved to a \"Documents\" directory, while `.jpg` files will be moved to an \"Images\" directory.\n",
    "\n",
    "**4. Handle exceptions:** The script will include error handling to manage exceptions such as permission errors, missing files during operation, or unsupported file types."
   ]
  },
  {
   "cell_type": "markdown",
   "metadata": {},
   "source": [
    "## **Code Implementation**"
   ]
  },
  {
   "cell_type": "code",
   "execution_count": null,
   "metadata": {},
   "outputs": [],
   "source": [
    "import os\n",
    "import shutil"
   ]
  },
  {
   "cell_type": "code",
   "execution_count": null,
   "metadata": {},
   "outputs": [],
   "source": [
    "# Custom exception for unsupported file types\n",
    "class UnsupportedFileTypeError(Exception):\n",
    "    \"\"\"Exception raised for files with unsupported or unrecognized extensions.\"\"\"\n",
    "    def __init__(self, file_type, message=\"Unsupported or unrecognized file type\"):\n",
    "        self.file_type = file_type\n",
    "        self.message = message\n",
    "        super().__init__(f\"{message}: {file_type}\")"
   ]
  },
  {
   "cell_type": "code",
   "execution_count": null,
   "metadata": {},
   "outputs": [],
   "source": [
    "def organize_files_in_directory(path):\n",
    "    # Define file extension categories\n",
    "    EXTENSION_MAP = {\n",
    "        \"Documents\": [\".pdf\", \".docx\", \".txt\"],\n",
    "        \"Images\": [\".jpg\", \".jpeg\", \".png\", \".gif\"],\n",
    "        \"Videos\": [\".mp4\", \".avi\", \".mov\"],\n",
    "        \"Music\": [\".mp3\", \".wav\"],\n",
    "    }\n",
    "\n",
    "    for item in os.listdir(path):\n",
    "        item_path = os.path.join(path, item)\n",
    "        if os.path.isfile(item_path):\n",
    "            ext = os.path.splitext(item)[1].lower()\n",
    "            moved = False\n",
    "\n",
    "            for category, extensions in EXTENSION_MAP.items():\n",
    "                if ext in extensions:\n",
    "                    dest_dir = os.path.join(path, category)\n",
    "                    os.makedirs(dest_dir, exist_ok=True)\n",
    "                    shutil.move(item_path, dest_dir)\n",
    "                    print(f\"Moved {item} to {dest_dir}\")\n",
    "                    moved = True\n",
    "                    break\n",
    "\n",
    "            if not moved:\n",
    "                # Optionally, raise an exception for an unsupported file type\n",
    "                # raise UnsupportedFileTypeError(ext)\n",
    "\n",
    "                print(f\"Skipped unsupported file type: {item}\")\n",
    "\n",
    "if __name__ == \"__main__\":\n",
    "    onedrive_path = \"/path/to/your/OneDrive/folder\"\n",
    "    try:\n",
    "        organize_files_in_directory(onedrive_path)\n",
    "        print(\"File organization complete.\")\n",
    "    except Exception as e:\n",
    "        print(f\"An error occurred: {e}\")"
   ]
  },
  {
   "cell_type": "markdown",
   "metadata": {},
   "source": [
    "## **Summary:**\n",
    "This Python script offers a practical solution for managing and organizing files within a OneDrive directory, leveraging Python's file handling capabilities and custom exceptions for efficient and user-friendly file management.\n",
    "\n",
    "- **Customizability:** The `EXTENSION_MAP` dictionary can be customized to include additional file types and categories as needed.\n",
    "- **Unsupported files:** The script currently skips files with unsupported extensions. If desired, it can be modified to raise the `UnsupportedFileTypeError` for such files, providing feedback on any file types that were not organized.\n",
    "- **Error handling:** The script includes a broad exception handling block. For a more robust solution, consider adding more specific exception handlers (e.g., for permission errors or missing directories).\n",
    "- **Efficiency considerations:** For directories with a large number of files, the script's performance can be impacted. Optimization techniques, such as processing files in batches or using multithreading, can be explored for large-scale organization tasks.\n",
    "\n"
   ]
  },
  {
   "cell_type": "code",
   "execution_count": null,
   "metadata": {},
   "outputs": [],
   "source": []
  }
 ],
 "metadata": {
  "kernelspec": {
   "display_name": "base",
   "language": "python",
   "name": "python3"
  },
  "language_info": {
   "codemirror_mode": {
    "name": "ipython",
    "version": 3
   },
   "file_extension": ".py",
   "mimetype": "text/x-python",
   "name": "python",
   "nbconvert_exporter": "python",
   "pygments_lexer": "ipython3",
   "version": "3.11.4"
  }
 },
 "nbformat": 4,
 "nbformat_minor": 2
}
